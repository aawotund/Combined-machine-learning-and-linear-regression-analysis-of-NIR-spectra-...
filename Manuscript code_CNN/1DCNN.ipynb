{
  "nbformat": 4,
  "nbformat_minor": 0,
  "metadata": {
    "colab": {
      "name": "1DCNN.ipynb",
      "provenance": [],
      "collapsed_sections": []
    },
    "kernelspec": {
      "name": "python3",
      "display_name": "Python 3"
    },
    "language_info": {
      "name": "python"
    }
  },
  "cells": [
    {
      "cell_type": "code",
      "metadata": {
        "id": "V_T1ecOYwLy2"
      },
      "source": [
        "# Library imports\n",
        "import pandas as pd\n",
        "import numpy as np\n",
        "import matplotlib.pyplot as plt\n",
        "from mpl_toolkits.mplot3d import Axes3D\n",
        "import keras\n",
        "from keras.models import Sequential\n",
        "from keras.layers import Dense\n",
        "import tensorflow as tf\n",
        "from tensorflow.keras.callbacks import EarlyStopping\n",
        "\n"
      ],
      "execution_count": 1,
      "outputs": []
    },
    {
      "cell_type": "code",
      "metadata": {
        "id": "jm4StKXwCZt6"
      },
      "source": [
        "# Standard Normal Variate Function\n",
        "def snv(input_data):\n",
        "  \n",
        "    # Define a new array and populate it with the corrected data  \n",
        "    output_data = np.zeros_like(input_data)\n",
        "    for i in range(input_data.shape[0]): \n",
        "        # Apply correction\n",
        "        output_data[i,:] = (input_data[i,:] - np.mean(input_data[i,:])) / np.std(input_data[i,:])\n",
        "        \n",
        "    return output_data"
      ],
      "execution_count": 2,
      "outputs": []
    },
    {
      "cell_type": "code",
      "metadata": {
        "id": "86yCmuJbxGrJ",
        "colab": {
          "base_uri": "https://localhost:8080/"
        },
        "outputId": "01d0d547-0265-4a8d-976e-bd0f2761e1c6"
      },
      "source": [
        "# load the dataset\n",
        "data = pd.read_csv('/content/Acetaminophen_mixture_CNN_Binary.csv', index_col=0)\n",
        "data = pd.DataFrame(data)\n",
        "data.drop(['label_name'], axis=1, inplace=True)\n",
        "data.rename(columns={'Unnamed: 0': 'id'},inplace=True)\n",
        "y = data['label']\n",
        "X = data.drop(['label'],axis=1)\n",
        "X = X.values[:,1:]\n",
        "X = snv(X)\n",
        "X = pd.DataFrame(X)\n",
        "print((X.shape))\n"
      ],
      "execution_count": 3,
      "outputs": [
        {
          "output_type": "stream",
          "name": "stdout",
          "text": [
            "(900, 226)\n"
          ]
        }
      ]
    },
    {
      "cell_type": "code",
      "metadata": {
        "id": "Du5vfUEEy5sZ"
      },
      "source": [
        "# Train Test Split and reshaping the data\n",
        "from sklearn.model_selection import train_test_split, cross_val_score\n",
        "X_train, X_test, y_train, y_test = train_test_split(X, y, test_size=0.20, random_state=2)\n",
        "X_train = X_train.values.reshape(X_train.shape[0],X_train.shape[1],1).astype('float32')\n",
        "X_test= X_test.values.reshape(X_test.shape[0],X_test.shape[1],1).astype('float32')"
      ],
      "execution_count": 4,
      "outputs": []
    },
    {
      "cell_type": "code",
      "metadata": {
        "id": "n4mpCbSg30BV"
      },
      "source": [
        "# Define Model\n",
        "\n",
        "n_timesteps = X_train.shape[1] \n",
        "n_features  = X_train.shape[2]  \n",
        "model = keras.Sequential(name=\"model_conv1D\")\n",
        "model.add(keras.layers.Input(shape=(n_timesteps,n_features)))\n",
        "model.add(keras.layers.Conv1D(filters=64, kernel_size=7, activation='relu', name=\"Conv1D_1\"))\n",
        "model.add(keras.layers.Conv1D(filters=32, kernel_size=5, activation='relu', name=\"Conv1D_2\"))\n",
        "model.add(keras.layers.Conv1D(filters=16, kernel_size=2, activation='relu', name=\"Conv1D_3\"))\n",
        "\n",
        "\n",
        "model.add(keras.layers.Flatten())\n",
        "model.add(keras.layers.Dense(32, activation='relu', name=\"Dense_1\"))\n",
        "model.add(keras.layers.Dense(n_features, name=\"Dense_2\"))\n",
        "#model.add(keras.layers.Dense(1, activation='relu'))\n",
        "\n",
        "model.compile(loss ='mse', optimizer='adam',metrics=['mse','mae'])"
      ],
      "execution_count": 5,
      "outputs": []
    },
    {
      "cell_type": "code",
      "metadata": {
        "colab": {
          "base_uri": "https://localhost:8080/"
        },
        "id": "nP3dVBsBK3s_",
        "outputId": "6b8dc860-90a5-4d1e-da58-2e7fcb9e40a5"
      },
      "source": [
        "model.summary()"
      ],
      "execution_count": 6,
      "outputs": [
        {
          "output_type": "stream",
          "name": "stdout",
          "text": [
            "Model: \"model_conv1D\"\n",
            "_________________________________________________________________\n",
            "Layer (type)                 Output Shape              Param #   \n",
            "=================================================================\n",
            "Conv1D_1 (Conv1D)            (None, 220, 64)           512       \n",
            "_________________________________________________________________\n",
            "Conv1D_2 (Conv1D)            (None, 216, 32)           10272     \n",
            "_________________________________________________________________\n",
            "Conv1D_3 (Conv1D)            (None, 215, 16)           1040      \n",
            "_________________________________________________________________\n",
            "flatten (Flatten)            (None, 3440)              0         \n",
            "_________________________________________________________________\n",
            "Dense_1 (Dense)              (None, 32)                110112    \n",
            "_________________________________________________________________\n",
            "Dense_2 (Dense)              (None, 1)                 33        \n",
            "=================================================================\n",
            "Total params: 121,969\n",
            "Trainable params: 121,969\n",
            "Non-trainable params: 0\n",
            "_________________________________________________________________\n"
          ]
        }
      ]
    },
    {
      "cell_type": "code",
      "metadata": {
        "id": "4NKR8b4SNPbO",
        "colab": {
          "base_uri": "https://localhost:8080/"
        },
        "outputId": "01f59366-fd7c-4ca6-e2ea-0f05474aa197"
      },
      "source": [
        "history = model.fit(X_train, y_train, epochs=20,verbose=1)"
      ],
      "execution_count": 7,
      "outputs": [
        {
          "output_type": "stream",
          "name": "stdout",
          "text": [
            "Epoch 1/20\n",
            "23/23 [==============================] - 2s 31ms/step - loss: 0.1148 - mse: 0.1148 - mae: 0.2767\n",
            "Epoch 2/20\n",
            "23/23 [==============================] - 1s 31ms/step - loss: 0.0139 - mse: 0.0139 - mae: 0.0931\n",
            "Epoch 3/20\n",
            "23/23 [==============================] - 1s 31ms/step - loss: 0.0086 - mse: 0.0086 - mae: 0.0731\n",
            "Epoch 4/20\n",
            "23/23 [==============================] - 1s 30ms/step - loss: 0.0084 - mse: 0.0084 - mae: 0.0728\n",
            "Epoch 5/20\n",
            "23/23 [==============================] - 1s 32ms/step - loss: 0.0060 - mse: 0.0060 - mae: 0.0592\n",
            "Epoch 6/20\n",
            "23/23 [==============================] - 1s 32ms/step - loss: 0.0060 - mse: 0.0060 - mae: 0.0595\n",
            "Epoch 7/20\n",
            "23/23 [==============================] - 1s 31ms/step - loss: 0.0066 - mse: 0.0066 - mae: 0.0617\n",
            "Epoch 8/20\n",
            "23/23 [==============================] - 1s 30ms/step - loss: 0.0046 - mse: 0.0046 - mae: 0.0507\n",
            "Epoch 9/20\n",
            "23/23 [==============================] - 1s 31ms/step - loss: 0.0041 - mse: 0.0041 - mae: 0.0471\n",
            "Epoch 10/20\n",
            "23/23 [==============================] - 1s 32ms/step - loss: 0.0049 - mse: 0.0049 - mae: 0.0545\n",
            "Epoch 11/20\n",
            "23/23 [==============================] - 1s 30ms/step - loss: 0.0042 - mse: 0.0042 - mae: 0.0486\n",
            "Epoch 12/20\n",
            "23/23 [==============================] - 1s 31ms/step - loss: 0.0044 - mse: 0.0044 - mae: 0.0515\n",
            "Epoch 13/20\n",
            "23/23 [==============================] - 1s 31ms/step - loss: 0.0038 - mse: 0.0038 - mae: 0.0470\n",
            "Epoch 14/20\n",
            "23/23 [==============================] - 1s 31ms/step - loss: 0.0027 - mse: 0.0027 - mae: 0.0371\n",
            "Epoch 15/20\n",
            "23/23 [==============================] - 1s 31ms/step - loss: 0.0032 - mse: 0.0032 - mae: 0.0423\n",
            "Epoch 16/20\n",
            "23/23 [==============================] - 1s 31ms/step - loss: 0.0035 - mse: 0.0035 - mae: 0.0453\n",
            "Epoch 17/20\n",
            "23/23 [==============================] - 1s 31ms/step - loss: 0.0023 - mse: 0.0023 - mae: 0.0349\n",
            "Epoch 18/20\n",
            "23/23 [==============================] - 1s 31ms/step - loss: 0.0025 - mse: 0.0025 - mae: 0.0386\n",
            "Epoch 19/20\n",
            "23/23 [==============================] - 1s 31ms/step - loss: 0.0022 - mse: 0.0022 - mae: 0.0341\n",
            "Epoch 20/20\n",
            "23/23 [==============================] - 1s 30ms/step - loss: 0.0020 - mse: 0.0020 - mae: 0.0334\n"
          ]
        }
      ]
    },
    {
      "cell_type": "code",
      "metadata": {
        "colab": {
          "base_uri": "https://localhost:8080/"
        },
        "id": "OR28le6cNvaO",
        "outputId": "02cfb905-1dbc-437c-9c8f-210f318d337a"
      },
      "source": [
        "mse = model.evaluate(X_test, y_test)\n",
        "print('Mean Squared Error!',mse)\n",
        "print(history.history['mae'])\n"
      ],
      "execution_count": 8,
      "outputs": [
        {
          "output_type": "stream",
          "name": "stdout",
          "text": [
            "6/6 [==============================] - 0s 9ms/step - loss: 0.0023 - mse: 0.0023 - mae: 0.0401\n",
            "Mean Squared Error! [0.0023102008271962404, 0.0023102008271962404, 0.04005202651023865]\n",
            "[0.27665406465530396, 0.09314193576574326, 0.07305534929037094, 0.0727858766913414, 0.059227123856544495, 0.059511180967092514, 0.061704788357019424, 0.05065327137708664, 0.04710531234741211, 0.05454849824309349, 0.04862481355667114, 0.051486339420080185, 0.047000136226415634, 0.03711612895131111, 0.04232007637619972, 0.04532766342163086, 0.03489181399345398, 0.03859340026974678, 0.03408747538924217, 0.033435020595788956]\n"
          ]
        }
      ]
    },
    {
      "cell_type": "code",
      "metadata": {
        "id": "vuAtGi2Aon-L"
      },
      "source": [
        "#Predicting Mystery Data\n",
        "myst = pd.read_csv('/content/Mystery_testing_data.csv', index_col=0)\n",
        "myst = pd.DataFrame(myst)\n",
        "myst_predictions = pd.DataFrame(myst[\"label_name\"])\n",
        "myst.drop(['label_name'], axis=1, inplace=True)\n",
        "# Applying SNV to myst data\n",
        "myst = myst.values[:,1:]\n",
        "myst = snv(myst)\n",
        "myst = pd.DataFrame(myst)\n",
        "\n",
        "myst= myst.values.reshape(myst.shape[0],myst.shape[1],1).astype('float32')\n",
        "preds = model.predict(myst)\n",
        "\n",
        "se = pd.Series(preds.tolist())\n",
        "myst_predictions.insert(loc=0, column='predictions', value=se.values)\n",
        "#Saving results\n",
        "myst_predictions.to_csv('/content/Mystery_Prediction_1DCNN_data_binary.csv')"
      ],
      "execution_count": 9,
      "outputs": []
    },
    {
      "cell_type": "code",
      "metadata": {
        "id": "Qr3GK211mDFN"
      },
      "source": [
        "#Predicting Ternary Samples Data\n",
        "data = pd.read_csv('/content/ternary_samples.csv', index_col=0)\n",
        "data = pd.DataFrame(data)\n",
        "ternary_predictions = pd.DataFrame()\n",
        "\n",
        "ternary_predictions[\"label_name\"] =data[\"label_name\"]\n",
        "ternary_predictions['Actual'] = data['label']\n",
        "\n",
        "data.drop(['label_name'], axis=1, inplace=True)\n",
        "data.rename(columns={'Unnamed: 0': 'id'},inplace=True)\n",
        "\n",
        "y = data['label']\n",
        "X = data.drop(['label'],axis=1)\n",
        "X = X.values[:,1:]\n",
        "X = snv(X)\n",
        "X = pd.DataFrame(X)\n",
        "\n",
        "ternary= X.values.reshape(X.shape[0],X.shape[1],1).astype('float32')\n",
        "preds = model.predict(ternary)\n",
        "\n",
        "se = pd.Series(preds.tolist())\n",
        "ternary_predictions.insert(loc=0, column='predictions', value=se.values)\n",
        "#Saving results\n",
        "ternary_predictions.to_csv('/content/Ternary_Prediction_1DCNN_data_Ternary.csv')"
      ],
      "execution_count": 10,
      "outputs": []
    },
    {
      "cell_type": "code",
      "metadata": {
        "colab": {
          "base_uri": "https://localhost:8080/"
        },
        "id": "pVlwRg35DIi5",
        "outputId": "fa7d135c-dbb4-452c-a470-e4074a535136"
      },
      "source": [
        "#Predicting Tylenol Data\n",
        "data = pd.read_csv('tylenol_topcare_samples.csv', index_col=0)\n",
        "data = pd.DataFrame(data)\n",
        "ternary_predictions = pd.DataFrame()\n",
        "\n",
        "ternary_predictions[\"label_name\"] =data[\"label_name\"]\n",
        "\n",
        "\n",
        "data.drop(['label_name'], axis=1, inplace=True)\n",
        "data.rename(columns={'Unnamed: 0': 'id'},inplace=True)\n",
        "\n",
        "X = data.values[:,1:]\n",
        "X = snv(X)\n",
        "X = pd.DataFrame(X)\n",
        "print(X.head(3))\n",
        "\n",
        "ternary= X.values.reshape(X.shape[0],X.shape[1],1).astype('float32')\n",
        "preds = model.predict(ternary)\n",
        "\n",
        "se = pd.Series(preds.tolist())\n",
        "ternary_predictions.insert(loc=0, column='predictions', value=se.values)\n",
        "#Saving results\n",
        "ternary_predictions.to_csv('/content/Tylenol_Prediction_1DCNN.csv')"
      ],
      "execution_count": 20,
      "outputs": [
        {
          "output_type": "stream",
          "name": "stdout",
          "text": [
            "        0         1         2    ...       223       224       225\n",
            "0 -1.136921 -1.088035 -1.093519  ...  0.855433  1.031870  0.984094\n",
            "1 -1.060666 -1.078443 -1.051561  ...  1.461359  1.168942  1.303648\n",
            "2 -1.073092 -1.038393 -1.032049  ...  1.285524  1.282711  1.157090\n",
            "\n",
            "[3 rows x 226 columns]\n"
          ]
        }
      ]
    }
  ]
}