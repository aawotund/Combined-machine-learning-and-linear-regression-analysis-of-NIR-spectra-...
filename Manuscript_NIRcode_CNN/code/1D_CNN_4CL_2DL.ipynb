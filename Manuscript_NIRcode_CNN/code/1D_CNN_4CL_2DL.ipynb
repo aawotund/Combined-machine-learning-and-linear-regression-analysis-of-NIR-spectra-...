{
  "nbformat": 4,
  "nbformat_minor": 0,
  "metadata": {
    "colab": {
      "name": "1D_CNN_4CL_2DL.ipynb",
      "provenance": [],
      "collapsed_sections": []
    },
    "kernelspec": {
      "name": "python3",
      "display_name": "Python 3"
    },
    "language_info": {
      "name": "python"
    }
  },
  "cells": [
    {
      "cell_type": "markdown",
      "source": [
        "This code shows CNN model with 4 convolutional layer with 2 fully connected layers"
      ],
      "metadata": {
        "id": "vwZ_g7DCPhJM"
      }
    },
    {
      "cell_type": "code",
      "metadata": {
        "id": "V_T1ecOYwLy2"
      },
      "source": [
        "# Library imports\n",
        "import pandas as pd\n",
        "import numpy as np\n",
        "import matplotlib.pyplot as plt\n",
        "from mpl_toolkits.mplot3d import Axes3D\n",
        "import keras\n",
        "from keras.models import Sequential\n",
        "from keras.layers import Dense\n",
        "import tensorflow as tf\n",
        "from tensorflow.keras.callbacks import EarlyStopping\n",
        "\n"
      ],
      "execution_count": 1,
      "outputs": []
    },
    {
      "cell_type": "code",
      "metadata": {
        "id": "jm4StKXwCZt6"
      },
      "source": [
        "# Standard Normal Variate Function\n",
        "def snv(input_data):\n",
        "  \n",
        "    # Define a new array and populate it with the corrected data  \n",
        "    output_data = np.zeros_like(input_data)\n",
        "    for i in range(input_data.shape[0]): \n",
        "        # Apply correction\n",
        "        output_data[i,:] = (input_data[i,:] - np.mean(input_data[i,:])) / np.std(input_data[i,:])\n",
        "        \n",
        "    return output_data"
      ],
      "execution_count": 2,
      "outputs": []
    },
    {
      "cell_type": "code",
      "metadata": {
        "id": "86yCmuJbxGrJ",
        "colab": {
          "base_uri": "https://localhost:8080/"
        },
        "outputId": "481277e9-c9d5-4244-fdff-f06f1d4d36c5"
      },
      "source": [
        "# load the dataset (binary data)\n",
        "data = pd.read_csv('/content/Acetaminophen_mixture_CNN_Binary.csv', index_col=0)\n",
        "data = pd.DataFrame(data)\n",
        "data.drop(['label_name'], axis=1, inplace=True)\n",
        "data.rename(columns={'Unnamed: 0': 'id'},inplace=True)\n",
        "y = data['label']\n",
        "X = data.drop(['label'],axis=1)\n",
        "X = X.values[:,1:]\n",
        "X = snv(X)\n",
        "X = pd.DataFrame(X)\n",
        "print((X.shape))\n"
      ],
      "execution_count": 3,
      "outputs": [
        {
          "output_type": "stream",
          "name": "stdout",
          "text": [
            "(900, 226)\n"
          ]
        }
      ]
    },
    {
      "cell_type": "code",
      "metadata": {
        "id": "Du5vfUEEy5sZ"
      },
      "source": [
        "# Train Test Split and reshaping the data\n",
        "from sklearn.model_selection import train_test_split, cross_val_score\n",
        "X_train, X_test, y_train, y_test = train_test_split(X, y, test_size=0.20, random_state=2)\n",
        "X_train = X_train.values.reshape(X_train.shape[0],X_train.shape[1],1).astype('float32')\n",
        "X_test= X_test.values.reshape(X_test.shape[0],X_test.shape[1],1).astype('float32')"
      ],
      "execution_count": 4,
      "outputs": []
    },
    {
      "cell_type": "code",
      "metadata": {
        "id": "n4mpCbSg30BV"
      },
      "source": [
        "# Define Model\n",
        "\n",
        "tf.keras.metrics.RootMeanSquaredError(\n",
        "    name=\"root_mean_squared_error\", dtype=None\n",
        ")\n",
        "n_timesteps = X_train.shape[1] \n",
        "n_features  = X_train.shape[2]  \n",
        "model = keras.Sequential(name=\"model_conv1D\")\n",
        "model.add(keras.layers.Input(shape=(n_timesteps,n_features)))\n",
        "model.add(keras.layers.Conv1D(filters=64, kernel_size=7, activation='relu', name=\"Conv1D_1\"))\n",
        "model.add(keras.layers.Conv1D(filters=32, kernel_size=5, activation='relu', name=\"Conv1D_2\"))\n",
        "model.add(keras.layers.Conv1D(filters=16, kernel_size=2, activation='relu', name=\"Conv1D_3\"))\n",
        "model.add(keras.layers.Conv1D(filters=8, kernel_size=1, activation='relu', name=\"Conv1D_4\"))\n",
        "\n",
        "\n",
        "model.add(keras.layers.Flatten())\n",
        "model.add(keras.layers.Dense(32, activation='relu', name=\"Dense_1\"))\n",
        "model.add(keras.layers.Dense(n_features, name=\"Dense_2\"))\n",
        "\n",
        "\n",
        "model.compile(loss ='mse', optimizer='adam',metrics=['mse','mae',tf.keras.metrics.RootMeanSquaredError()])"
      ],
      "execution_count": 5,
      "outputs": []
    },
    {
      "cell_type": "code",
      "metadata": {
        "colab": {
          "base_uri": "https://localhost:8080/"
        },
        "id": "nP3dVBsBK3s_",
        "outputId": "2584a472-5de0-40f8-c54c-38e42a8a28fb"
      },
      "source": [
        "model.summary()"
      ],
      "execution_count": 6,
      "outputs": [
        {
          "output_type": "stream",
          "name": "stdout",
          "text": [
            "Model: \"model_conv1D\"\n",
            "_________________________________________________________________\n",
            " Layer (type)                Output Shape              Param #   \n",
            "=================================================================\n",
            " Conv1D_1 (Conv1D)           (None, 220, 64)           512       \n",
            "                                                                 \n",
            " Conv1D_2 (Conv1D)           (None, 216, 32)           10272     \n",
            "                                                                 \n",
            " Conv1D_3 (Conv1D)           (None, 215, 16)           1040      \n",
            "                                                                 \n",
            " Conv1D_4 (Conv1D)           (None, 215, 8)            136       \n",
            "                                                                 \n",
            " flatten (Flatten)           (None, 1720)              0         \n",
            "                                                                 \n",
            " Dense_1 (Dense)             (None, 32)                55072     \n",
            "                                                                 \n",
            " Dense_2 (Dense)             (None, 1)                 33        \n",
            "                                                                 \n",
            "=================================================================\n",
            "Total params: 67,065\n",
            "Trainable params: 67,065\n",
            "Non-trainable params: 0\n",
            "_________________________________________________________________\n"
          ]
        }
      ]
    },
    {
      "cell_type": "code",
      "metadata": {
        "id": "4NKR8b4SNPbO",
        "colab": {
          "base_uri": "https://localhost:8080/"
        },
        "outputId": "6b2ca1b7-d057-483c-8fd4-1a131ffb8e29"
      },
      "source": [
        "history = model.fit(X_train, y_train, epochs=20,verbose=1)\n",
        "mse = model.evaluate(X_test, y_test)\n",
        "print('Mean Squared Error!',mse)\n"
      ],
      "execution_count": 7,
      "outputs": [
        {
          "output_type": "stream",
          "name": "stdout",
          "text": [
            "Epoch 1/20\n",
            "23/23 [==============================] - 3s 55ms/step - loss: 0.0989 - mse: 0.0989 - mae: 0.2674 - root_mean_squared_error: 0.3145\n",
            "Epoch 2/20\n",
            "23/23 [==============================] - 1s 52ms/step - loss: 0.0216 - mse: 0.0216 - mae: 0.1213 - root_mean_squared_error: 0.1469\n",
            "Epoch 3/20\n",
            "23/23 [==============================] - 1s 52ms/step - loss: 0.0130 - mse: 0.0130 - mae: 0.0898 - root_mean_squared_error: 0.1141\n",
            "Epoch 4/20\n",
            "23/23 [==============================] - 1s 56ms/step - loss: 0.0080 - mse: 0.0080 - mae: 0.0695 - root_mean_squared_error: 0.0893\n",
            "Epoch 5/20\n",
            "23/23 [==============================] - 1s 64ms/step - loss: 0.0069 - mse: 0.0069 - mae: 0.0648 - root_mean_squared_error: 0.0831\n",
            "Epoch 6/20\n",
            "23/23 [==============================] - 1s 65ms/step - loss: 0.0064 - mse: 0.0064 - mae: 0.0620 - root_mean_squared_error: 0.0798\n",
            "Epoch 7/20\n",
            "23/23 [==============================] - 2s 68ms/step - loss: 0.0055 - mse: 0.0055 - mae: 0.0578 - root_mean_squared_error: 0.0744\n",
            "Epoch 8/20\n",
            "23/23 [==============================] - 2s 73ms/step - loss: 0.0056 - mse: 0.0056 - mae: 0.0574 - root_mean_squared_error: 0.0745\n",
            "Epoch 9/20\n",
            "23/23 [==============================] - 1s 63ms/step - loss: 0.0050 - mse: 0.0050 - mae: 0.0534 - root_mean_squared_error: 0.0704\n",
            "Epoch 10/20\n",
            "23/23 [==============================] - 1s 58ms/step - loss: 0.0045 - mse: 0.0045 - mae: 0.0504 - root_mean_squared_error: 0.0672\n",
            "Epoch 11/20\n",
            "23/23 [==============================] - 1s 57ms/step - loss: 0.0042 - mse: 0.0042 - mae: 0.0489 - root_mean_squared_error: 0.0649\n",
            "Epoch 12/20\n",
            "23/23 [==============================] - 1s 57ms/step - loss: 0.0048 - mse: 0.0048 - mae: 0.0528 - root_mean_squared_error: 0.0694\n",
            "Epoch 13/20\n",
            "23/23 [==============================] - 1s 63ms/step - loss: 0.0056 - mse: 0.0056 - mae: 0.0594 - root_mean_squared_error: 0.0748\n",
            "Epoch 14/20\n",
            "23/23 [==============================] - 2s 67ms/step - loss: 0.0042 - mse: 0.0042 - mae: 0.0494 - root_mean_squared_error: 0.0647\n",
            "Epoch 15/20\n",
            "23/23 [==============================] - 2s 70ms/step - loss: 0.0039 - mse: 0.0039 - mae: 0.0468 - root_mean_squared_error: 0.0621\n",
            "Epoch 16/20\n",
            "23/23 [==============================] - 1s 34ms/step - loss: 0.0034 - mse: 0.0034 - mae: 0.0437 - root_mean_squared_error: 0.0586\n",
            "Epoch 17/20\n",
            "23/23 [==============================] - 1s 31ms/step - loss: 0.0032 - mse: 0.0032 - mae: 0.0428 - root_mean_squared_error: 0.0569\n",
            "Epoch 18/20\n",
            "23/23 [==============================] - 1s 31ms/step - loss: 0.0032 - mse: 0.0032 - mae: 0.0420 - root_mean_squared_error: 0.0562\n",
            "Epoch 19/20\n",
            "23/23 [==============================] - 1s 31ms/step - loss: 0.0028 - mse: 0.0028 - mae: 0.0394 - root_mean_squared_error: 0.0530\n",
            "Epoch 20/20\n",
            "23/23 [==============================] - 1s 35ms/step - loss: 0.0026 - mse: 0.0026 - mae: 0.0378 - root_mean_squared_error: 0.0507\n",
            "6/6 [==============================] - 0s 12ms/step - loss: 0.0026 - mse: 0.0026 - mae: 0.0322 - root_mean_squared_error: 0.0509\n",
            "Mean Squared Error! [0.0025910395197570324, 0.0025910395197570324, 0.032155491411685944, 0.05090225487947464]\n"
          ]
        }
      ]
    },
    {
      "cell_type": "code",
      "metadata": {
        "id": "vuAtGi2Aon-L",
        "colab": {
          "base_uri": "https://localhost:8080/"
        },
        "outputId": "0eef9b03-478a-42e1-efac-9f1a428eb4f8"
      },
      "source": [
        "#Predicting Mystery Data\n",
        "myst = pd.read_csv('/content/Mystery_testing_data.csv', index_col=0)\n",
        "myst_actual = pd.read_csv('/content/Mystery_labels.csv')\n",
        "myst_actual = myst_actual['Actual ']\n",
        "myst = pd.DataFrame(myst)\n",
        "myst_predictions = pd.DataFrame(myst[\"label_name\"])\n",
        "myst.drop(['label_name'], axis=1, inplace=True)\n",
        "# Applying SNV to myst data\n",
        "myst = myst.values[:,1:]\n",
        "myst = snv(myst)\n",
        "myst = pd.DataFrame(myst)\n",
        "\n",
        "myst= myst.values.reshape(myst.shape[0],myst.shape[1],1).astype('float32')\n",
        "preds = model.predict(myst)\n",
        "\n",
        "se = pd.Series(preds.tolist())\n",
        "myst_predictions.insert(loc=0, column='predictions', value=se.values)\n",
        "#Saving results\n",
        "myst_predictions.to_csv('/content/Mystery_Prediction_1DCNN_data_binary.csv')\n",
        "# Evaluate model\n",
        "mse = model.evaluate(myst, myst_actual)\n",
        "print('Mean Squared Error!',mse)\n"
      ],
      "execution_count": 8,
      "outputs": [
        {
          "output_type": "stream",
          "name": "stdout",
          "text": [
            "4/4 [==============================] - 0s 8ms/step - loss: 0.1271 - mse: 0.1271 - mae: 0.2051 - root_mean_squared_error: 0.3565\n",
            "Mean Squared Error! [0.12706543505191803, 0.12706543505191803, 0.2050706148147583, 0.35646238923072815]\n"
          ]
        }
      ]
    },
    {
      "cell_type": "code",
      "metadata": {
        "id": "Qr3GK211mDFN",
        "colab": {
          "base_uri": "https://localhost:8080/"
        },
        "outputId": "eabf0087-cd29-45e8-9770-b287bc6c441b"
      },
      "source": [
        "#Predicting Ternary Samples Data\n",
        "data = pd.read_csv('/content/ternary_samples.csv', index_col=0)\n",
        "data = pd.DataFrame(data)\n",
        "ternary_predictions = pd.DataFrame()\n",
        "\n",
        "ternary_predictions[\"label_name\"] =data[\"label_name\"]\n",
        "ternary_predictions['Actual'] = data['label']\n",
        "\n",
        "data.drop(['label_name'], axis=1, inplace=True)\n",
        "data.rename(columns={'Unnamed: 0': 'id'},inplace=True)\n",
        "\n",
        "y = data['label']\n",
        "X = data.drop(['label'],axis=1)\n",
        "X = X.values[:,1:]\n",
        "X = snv(X)\n",
        "X = pd.DataFrame(X)\n",
        "\n",
        "ternary= X.values.reshape(X.shape[0],X.shape[1],1).astype('float32')\n",
        "preds = model.predict(ternary)\n",
        "\n",
        "se = pd.Series(preds.tolist())\n",
        "ternary_predictions.insert(loc=0, column='predictions', value=se.values)\n",
        "#Saving results\n",
        "ternary_predictions.to_csv('/content/Ternary_Prediction_1DCNN_data_Ternary.csv')\n",
        "\n",
        "mse = model.evaluate(ternary, y)\n",
        "print('Mean Squared Error!',mse)"
      ],
      "execution_count": 9,
      "outputs": [
        {
          "output_type": "stream",
          "name": "stdout",
          "text": [
            "13/13 [==============================] - 0s 10ms/step - loss: 0.0055 - mse: 0.0055 - mae: 0.0601 - root_mean_squared_error: 0.0739\n",
            "Mean Squared Error! [0.005465748719871044, 0.005465748719871044, 0.060072802007198334, 0.07393070310354233]\n"
          ]
        }
      ]
    },
    {
      "cell_type": "code",
      "source": [
        "\n"
      ],
      "metadata": {
        "id": "kMw7hgGTZ4rG"
      },
      "execution_count": 9,
      "outputs": []
    },
    {
      "cell_type": "code",
      "metadata": {
        "id": "pVlwRg35DIi5"
      },
      "source": [
        "#Predicting Tylenol Data\n",
        "data = pd.read_csv('tylenol_topcare_samples.csv', index_col=0)\n",
        "data = pd.DataFrame(data)\n",
        "ternary_predictions = pd.DataFrame()\n",
        "\n",
        "ternary_predictions[\"label_name\"] =data[\"label_name\"]\n",
        "\n",
        "\n",
        "data.drop(['label_name'], axis=1, inplace=True)\n",
        "data.rename(columns={'Unnamed: 0': 'id'},inplace=True)\n",
        "\n",
        "X = data.values[:,1:]\n",
        "X = snv(X)\n",
        "X = pd.DataFrame(X)\n",
        "\n",
        "ternary= X.values.reshape(X.shape[0],X.shape[1],1).astype('float32')\n",
        "preds = model.predict(ternary)\n",
        "\n",
        "se = pd.Series(preds.tolist())\n",
        "ternary_predictions.insert(loc=0, column='predictions', value=se.values)\n",
        "#Saving results\n",
        "ternary_predictions.to_csv('/content/Tylenol_Prediction_1DCNN.csv')"
      ],
      "execution_count": 10,
      "outputs": []
    }
  ]
}