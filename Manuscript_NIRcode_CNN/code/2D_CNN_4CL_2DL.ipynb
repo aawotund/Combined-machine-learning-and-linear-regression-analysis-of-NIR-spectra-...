{
  "nbformat": 4,
  "nbformat_minor": 0,
  "metadata": {
    "colab": {
      "name": "2D_CNN_4CL_2DL.ipynb",
      "provenance": [],
      "collapsed_sections": []
    },
    "kernelspec": {
      "name": "python3",
      "display_name": "Python 3"
    },
    "language_info": {
      "name": "python"
    }
  },
  "cells": [
    {
      "cell_type": "markdown",
      "source": [
        "This code shows CNN model with 4 convolutional layer with 2 fully connected layers for 2-dimentional data"
      ],
      "metadata": {
        "id": "P6eG-4AJsV-Q"
      }
    },
    {
      "cell_type": "code",
      "metadata": {
        "id": "V_T1ecOYwLy2"
      },
      "source": [
        "# Library imports\n",
        "import pandas as pd\n",
        "import numpy as np\n",
        "import matplotlib.pyplot as plt\n",
        "from mpl_toolkits.mplot3d import Axes3D\n",
        "from sklearn.cluster import KMeans\n",
        "import keras\n",
        "from keras.models import Sequential\n",
        "from keras.layers import Dense\n",
        "import tensorflow as tf"
      ],
      "execution_count": 1,
      "outputs": []
    },
    {
      "cell_type": "code",
      "metadata": {
        "id": "jm4StKXwCZt6"
      },
      "source": [
        "\n",
        "def snv(input_data):\n",
        "  \n",
        "    # Define a new array and populate it with the corrected data  \n",
        "    output_data = np.zeros_like(input_data)\n",
        "    for i in range(input_data.shape[0]):\n",
        " \n",
        "        # Apply correction\n",
        "        output_data[i,:] = (input_data[i,:] - np.mean(input_data[i,:])) / np.std(input_data[i,:])\n",
        "        #print(output_data)\n",
        "    return output_data"
      ],
      "execution_count": 2,
      "outputs": []
    },
    {
      "cell_type": "code",
      "metadata": {
        "id": "86yCmuJbxGrJ"
      },
      "source": [
        "# load the dataset\n",
        "data = pd.read_csv('/content/Acetaminophen_mixture_CNN_Binary.csv', index_col=0)\n",
        "data = pd.DataFrame(data)\n",
        "data.drop(['label_name'], axis=1, inplace=True)\n",
        "data.rename(columns={'Unnamed: 0': 'id'},inplace=True)\n",
        "y = data['label']\n",
        "X = data.drop(['label'],axis=1)\n",
        "X = X.values[:,2:]\n",
        "X = snv(X)\n",
        "X = pd.DataFrame(X)\n"
      ],
      "execution_count": 3,
      "outputs": []
    },
    {
      "cell_type": "code",
      "metadata": {
        "id": "-q4neHHZTB1t",
        "colab": {
          "base_uri": "https://localhost:8080/",
          "height": 283
        },
        "outputId": "96d9d135-18de-466c-beed-0909519c8238"
      },
      "source": [
        "plot = X.values.reshape(900,15,15)\n",
        "sample_plot =plot[0]\n",
        "print(sample_plot.shape)\n",
        "plt.imshow(sample_plot,cmap='gray')\n",
        "plt.show()"
      ],
      "execution_count": 4,
      "outputs": [
        {
          "output_type": "stream",
          "name": "stdout",
          "text": [
            "(15, 15)\n"
          ]
        },
        {
          "output_type": "display_data",
          "data": {
            "text/plain": [
              "<Figure size 432x288 with 1 Axes>"
            ],
            "image/png": "[encoded data removed]"
          },
          "metadata": {
            "needs_background": "light"
          }
        }
      ]
    },
    {
      "cell_type": "code",
      "metadata": {
        "id": "Du5vfUEEy5sZ",
        "colab": {
          "base_uri": "https://localhost:8080/"
        },
        "outputId": "b45524b4-4c6b-4246-f799-47551ef915e6"
      },
      "source": [
        "# fit the keras model on the dataset\n",
        "from sklearn.model_selection import train_test_split, cross_val_score\n",
        "X_train, X_test, y_train, y_test = train_test_split(X, y, test_size=0.20, random_state=2)\n",
        "\n",
        "X_train = X_train.values.reshape(X_train.shape[0],15,15,1).astype('float32')\n",
        "X_test= X_test.values.reshape(X_test.shape[0],15,15,1).astype('float32')\n",
        "print(X_train.shape)"
      ],
      "execution_count": 5,
      "outputs": [
        {
          "output_type": "stream",
          "name": "stdout",
          "text": [
            "(720, 15, 15, 1)\n"
          ]
        }
      ]
    },
    {
      "cell_type": "code",
      "metadata": {
        "id": "n4mpCbSg30BV"
      },
      "source": [
        "\n",
        "# Define Model\n",
        "\n",
        "tf.keras.metrics.RootMeanSquaredError(\n",
        "    name=\"root_mean_squared_error\", dtype=None\n",
        ")\n",
        "n_timesteps = X_train.shape[1] \n",
        "n_features  = X_train.shape[2]  \n",
        "model = keras.Sequential(name=\"model_conv2D\")\n",
        "model.add(keras.layers.Input(shape=(n_timesteps,n_features,1)))\n",
        "model.add(keras.layers.Conv2D(filters=64, kernel_size=7, activation='relu', name=\"Conv2D_1\"))\n",
        "model.add(keras.layers.Conv2D(filters=32, kernel_size=5, activation='relu', name=\"Conv2D_2\"))\n",
        "model.add(keras.layers.Conv2D(filters=16, kernel_size=2, activation='relu', name=\"Conv2D_3\"))\n",
        "model.add(keras.layers.Conv1D(filters=8, kernel_size=2, activation='relu', name=\"Conv1D_4\"))\n",
        "\n",
        "\n",
        "model.add(keras.layers.Flatten())\n",
        "model.add(keras.layers.Dense(32, activation='relu', name=\"Dense_1\"))\n",
        "#model.add(keras.layers.Dense(16, activation='relu',name=\"Dense_1\"))\n",
        "model.add(keras.layers.Dense(n_features, name=\"Dense_2\"))\n",
        "\n",
        "\n",
        "model.compile(loss ='mse', optimizer='adam',metrics=['mse','mae',tf.keras.metrics.RootMeanSquaredError()])"
      ],
      "execution_count": 6,
      "outputs": []
    },
    {
      "cell_type": "code",
      "metadata": {
        "colab": {
          "base_uri": "https://localhost:8080/"
        },
        "id": "nP3dVBsBK3s_",
        "outputId": "0fa579a3-ef81-4d82-cfa0-a26c45973279"
      },
      "source": [
        "model.summary()"
      ],
      "execution_count": 7,
      "outputs": [
        {
          "output_type": "stream",
          "name": "stdout",
          "text": [
            "Model: \"model_conv2D\"\n",
            "_________________________________________________________________\n",
            " Layer (type)                Output Shape              Param #   \n",
            "=================================================================\n",
            " Conv2D_1 (Conv2D)           (None, 9, 9, 64)          3200      \n",
            "                                                                 \n",
            " Conv2D_2 (Conv2D)           (None, 5, 5, 32)          51232     \n",
            "                                                                 \n",
            " Conv2D_3 (Conv2D)           (None, 4, 4, 16)          2064      \n",
            "                                                                 \n",
            " Conv1D_4 (Conv1D)           (None, 4, 3, 8)           264       \n",
            "                                                                 \n",
            " flatten (Flatten)           (None, 96)                0         \n",
            "                                                                 \n",
            " Dense_1 (Dense)             (None, 32)                3104      \n",
            "                                                                 \n",
            " Dense_2 (Dense)             (None, 15)                495       \n",
            "                                                                 \n",
            "=================================================================\n",
            "Total params: 60,359\n",
            "Trainable params: 60,359\n",
            "Non-trainable params: 0\n",
            "_________________________________________________________________\n"
          ]
        }
      ]
    },
    {
      "cell_type": "code",
      "metadata": {
        "id": "4NKR8b4SNPbO",
        "colab": {
          "base_uri": "https://localhost:8080/"
        },
        "outputId": "f0f96416-f9c5-487d-80dc-d064a0f8ef5a"
      },
      "source": [
        "history = model.fit(X_train, y_train, epochs=20,verbose=1)"
      ],
      "execution_count": 8,
      "outputs": [
        {
          "output_type": "stream",
          "name": "stdout",
          "text": [
            "Epoch 1/20\n",
            "23/23 [==============================] - 3s 38ms/step - loss: 0.2541 - mse: 0.2541 - mae: 0.4074 - root_mean_squared_error: 0.5040\n",
            "Epoch 2/20\n",
            "23/23 [==============================] - 1s 34ms/step - loss: 0.0907 - mse: 0.0907 - mae: 0.2577 - root_mean_squared_error: 0.3012\n",
            "Epoch 3/20\n",
            "23/23 [==============================] - 1s 35ms/step - loss: 0.0284 - mse: 0.0284 - mae: 0.1374 - root_mean_squared_error: 0.1685\n",
            "Epoch 4/20\n",
            "23/23 [==============================] - 1s 36ms/step - loss: 0.0126 - mse: 0.0126 - mae: 0.0859 - root_mean_squared_error: 0.1121\n",
            "Epoch 5/20\n",
            "23/23 [==============================] - 1s 33ms/step - loss: 0.0086 - mse: 0.0086 - mae: 0.0710 - root_mean_squared_error: 0.0929\n",
            "Epoch 6/20\n",
            "23/23 [==============================] - 1s 41ms/step - loss: 0.0068 - mse: 0.0068 - mae: 0.0619 - root_mean_squared_error: 0.0827\n",
            "Epoch 7/20\n",
            "23/23 [==============================] - 1s 34ms/step - loss: 0.0071 - mse: 0.0071 - mae: 0.0644 - root_mean_squared_error: 0.0843\n",
            "Epoch 8/20\n",
            "23/23 [==============================] - 1s 38ms/step - loss: 0.0050 - mse: 0.0050 - mae: 0.0538 - root_mean_squared_error: 0.0707\n",
            "Epoch 9/20\n",
            "23/23 [==============================] - 1s 39ms/step - loss: 0.0035 - mse: 0.0035 - mae: 0.0455 - root_mean_squared_error: 0.0593\n",
            "Epoch 10/20\n",
            "23/23 [==============================] - 1s 41ms/step - loss: 0.0026 - mse: 0.0026 - mae: 0.0392 - root_mean_squared_error: 0.0511\n",
            "Epoch 11/20\n",
            "23/23 [==============================] - 1s 34ms/step - loss: 0.0045 - mse: 0.0045 - mae: 0.0502 - root_mean_squared_error: 0.0667\n",
            "Epoch 12/20\n",
            "23/23 [==============================] - 1s 34ms/step - loss: 0.0034 - mse: 0.0034 - mae: 0.0451 - root_mean_squared_error: 0.0584\n",
            "Epoch 13/20\n",
            "23/23 [==============================] - 1s 35ms/step - loss: 0.0025 - mse: 0.0025 - mae: 0.0388 - root_mean_squared_error: 0.0495\n",
            "Epoch 14/20\n",
            "23/23 [==============================] - 1s 37ms/step - loss: 0.0021 - mse: 0.0021 - mae: 0.0356 - root_mean_squared_error: 0.0460\n",
            "Epoch 15/20\n",
            "23/23 [==============================] - 1s 38ms/step - loss: 0.0028 - mse: 0.0028 - mae: 0.0399 - root_mean_squared_error: 0.0526\n",
            "Epoch 16/20\n",
            "23/23 [==============================] - 1s 35ms/step - loss: 0.0020 - mse: 0.0020 - mae: 0.0352 - root_mean_squared_error: 0.0452\n",
            "Epoch 17/20\n",
            "23/23 [==============================] - 1s 34ms/step - loss: 0.0038 - mse: 0.0038 - mae: 0.0476 - root_mean_squared_error: 0.0614\n",
            "Epoch 18/20\n",
            "23/23 [==============================] - 1s 30ms/step - loss: 0.0040 - mse: 0.0040 - mae: 0.0490 - root_mean_squared_error: 0.0634\n",
            "Epoch 19/20\n",
            "23/23 [==============================] - 1s 33ms/step - loss: 0.0017 - mse: 0.0017 - mae: 0.0326 - root_mean_squared_error: 0.0416\n",
            "Epoch 20/20\n",
            "23/23 [==============================] - 1s 40ms/step - loss: 0.0016 - mse: 0.0016 - mae: 0.0310 - root_mean_squared_error: 0.0398\n"
          ]
        }
      ]
    },
    {
      "cell_type": "code",
      "metadata": {
        "colab": {
          "base_uri": "https://localhost:8080/"
        },
        "id": "vuAtGi2Aon-L",
        "outputId": "561da806-9bfa-4be1-cf69-c666288a7215"
      },
      "source": [
        "myst = pd.read_csv('/content/Mystery_testing_data.csv', index_col=0)\n",
        "myst = pd.DataFrame(myst)\n",
        "predictions =[]\n",
        "myst_predictions = pd.DataFrame(myst[\"label_name\"])\n",
        "myst.drop(['label_name'], axis=1, inplace=True)\n",
        "\n",
        "myst_actual = pd.read_csv('/content/Mystery_labels.csv')\n",
        "myst_actual = myst_actual['Actual ']\n",
        "# Applying SNV to myst data\n",
        "myst = myst.values[:,2:]\n",
        "myst = snv(myst)\n",
        "myst = pd.DataFrame(myst)\n",
        "myst= myst.values.reshape(myst.shape[0],15,15,1).astype('float32')\n",
        "preds = model.predict(myst)\n",
        "#print(preds)\n",
        "\n",
        "se = pd.Series(preds.tolist())\n",
        "for i in range(0, 100):\n",
        "  \n",
        "  predictions.append((sum(se[i])/len(se[i])))\n",
        "\n",
        "myst_predictions.insert(loc=1, column='predictions', value=predictions)\n",
        "myst_predictions.to_csv('/content/Mystery_Prediction_2DCNN.csv')\n",
        "\n",
        "# Evaluate model\n",
        "mse = model.evaluate(myst, myst_actual)\n",
        "print('Mean Squared Error!',mse)"
      ],
      "execution_count": 9,
      "outputs": [
        {
          "output_type": "stream",
          "name": "stdout",
          "text": [
            "4/4 [==============================] - 0s 8ms/step - loss: 0.1043 - mse: 0.1043 - mae: 0.1796 - root_mean_squared_error: 0.3229\n",
            "Mean Squared Error! [0.1042843908071518, 0.1042843908071518, 0.17963306605815887, 0.3229309320449829]\n"
          ]
        }
      ]
    },
    {
      "cell_type": "code",
      "metadata": {
        "colab": {
          "base_uri": "https://localhost:8080/"
        },
        "id": "xnkTUqznv_YA",
        "outputId": "608c6662-f8c4-445a-e4cb-71a27b57c70e"
      },
      "source": [
        "#Predicting Ternary Samples Data\n",
        "data = pd.read_csv('/content/ternary_samples.csv', index_col=0)\n",
        "data = pd.DataFrame(data)\n",
        "ternary_predictions = pd.DataFrame()\n",
        "\n",
        "ternary_predictions[\"label_name\"] =data[\"label_name\"]\n",
        "ternary_predictions['Actual'] = data['label']\n",
        "\n",
        "data.drop(['label_name'], axis=1, inplace=True)\n",
        "data.rename(columns={'Unnamed: 0': 'id'},inplace=True)\n",
        "\n",
        "y = data['label']\n",
        "X = data.drop(['label'],axis=1)\n",
        "X = X.values[:,2:]\n",
        "X = snv(X)\n",
        "X = pd.DataFrame(X)\n",
        "\n",
        "ternary= X.values.reshape(X.shape[0],15,15,1).astype('float32')\n",
        "preds = model.predict(ternary)\n",
        "#print(preds)\n",
        "se = pd.Series(preds.tolist())\n",
        "ternary_predictions.insert(loc=0, column='predictions', value=se.values)\n",
        "#Saving results\n",
        "ternary_predictions.to_csv('/content/Ternary_Prediction_2DCNN.csv')\n",
        "# Evaluate model\n",
        "mse = model.evaluate(ternary, y)\n",
        "print('Mean Squared Error!',mse)"
      ],
      "execution_count": 10,
      "outputs": [
        {
          "output_type": "stream",
          "name": "stdout",
          "text": [
            "13/13 [==============================] - 0s 6ms/step - loss: 0.0041 - mse: 0.0041 - mae: 0.0523 - root_mean_squared_error: 0.0641\n",
            "Mean Squared Error! [0.004104629624634981, 0.004104629624634981, 0.05227872356772423, 0.06406738609075546]\n"
          ]
        }
      ]
    },
    {
      "cell_type": "code",
      "metadata": {
        "id": "hbgbyIguHPq6"
      },
      "source": [
        "#Predicting Tylenol Data\n",
        "data = pd.read_csv('tylenol_topcare_samples.csv', index_col=0)\n",
        "data = pd.DataFrame(data)\n",
        "ternary_predictions = pd.DataFrame()\n",
        "\n",
        "ternary_predictions[\"label_name\"] =data[\"label_name\"]\n",
        "\n",
        "\n",
        "data.drop(['label_name'], axis=1, inplace=True)\n",
        "data.rename(columns={'Unnamed: 0': 'id'},inplace=True)\n",
        "\n",
        "X = data.values[:,2:]\n",
        "X = snv(X)\n",
        "X = pd.DataFrame(X)\n",
        "\n",
        "ternary= X.values.reshape(X.shape[0],15,15,1).astype('float32')\n",
        "preds = model.predict(ternary)\n",
        "#print (preds)\n",
        "\n",
        "se = pd.Series(preds.tolist())\n",
        "ternary_predictions.insert(loc=0, column='predictions', value=se.values)\n",
        "#Saving results\n",
        "ternary_predictions.to_csv('/content/Tylenol_Prediction_2DCNN.csv')"
      ],
      "execution_count": 11,
      "outputs": []
    }
  ]
}