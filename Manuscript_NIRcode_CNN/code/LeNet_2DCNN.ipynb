{
  "nbformat": 4,
  "nbformat_minor": 0,
  "metadata": {
    "colab": {
      "name": "LeNet_2DCNN.ipynb",
      "provenance": [],
      "collapsed_sections": []
    },
    "kernelspec": {
      "name": "python3",
      "display_name": "Python 3"
    },
    "language_info": {
      "name": "python"
    }
  },
  "cells": [
    {
      "cell_type": "code",
      "metadata": {
        "id": "V_T1ecOYwLy2"
      },
      "source": [
        "# Library imports\n",
        "import pandas as pd\n",
        "import numpy as np\n",
        "import matplotlib.pyplot as plt\n",
        "from scipy.signal import savgol_filter\n",
        "from sklearn.preprocessing import StandardScaler\n",
        "import keras\n",
        "from keras.models import Sequential\n",
        "from keras.layers import Dense\n",
        "import tensorflow as tf\n",
        "from tensorflow.keras.callbacks import EarlyStopping"
      ],
      "execution_count": 1,
      "outputs": []
    },
    {
      "cell_type": "code",
      "metadata": {
        "id": "jm4StKXwCZt6"
      },
      "source": [
        "\n",
        "def snv(input_data):\n",
        "  \n",
        "    # Define a new array and populate it with the corrected data  \n",
        "    output_data = np.zeros_like(input_data)\n",
        "    for i in range(input_data.shape[0]):\n",
        " \n",
        "        # Apply correction\n",
        "        output_data[i,:] = (input_data[i,:] - np.mean(input_data[i,:])) / np.std(input_data[i,:])\n",
        "        #print(output_data)\n",
        "    return output_data"
      ],
      "execution_count": 2,
      "outputs": []
    },
    {
      "cell_type": "code",
      "metadata": {
        "id": "86yCmuJbxGrJ",
        "colab": {
          "base_uri": "https://localhost:8080/"
        },
        "outputId": "d4a0b2cb-b7ee-4a57-89e6-9c7a0036e3a7"
      },
      "source": [
        "# load the dataset\n",
        "data = pd.read_csv('/content/Acetaminophen_mixture_CNN_Binary.csv', index_col=0)\n",
        "data = pd.DataFrame(data)\n",
        "df = pd.DataFrame()\n",
        "data.drop(['label_name'], axis=1, inplace=True)\n",
        "data.rename(columns={'Unnamed: 0': 'id'},inplace=True)\n",
        "y = data['label']\n",
        "X = data.drop(['label'],axis=1)\n",
        "X = X.values[:,0:]\n",
        "X = snv(X)\n",
        "X = pd.DataFrame(X)\n",
        "print((X.shape))\n",
        "#X = X.values.reshape(900,32,32)\n",
        "for i in range(227,1024,1):\n",
        "  X.insert(loc=i, column=i, value=0)\n",
        "print((X.shape))"
      ],
      "execution_count": 3,
      "outputs": [
        {
          "output_type": "stream",
          "name": "stdout",
          "text": [
            "(900, 227)\n"
          ]
        },
        {
          "output_type": "stream",
          "name": "stderr",
          "text": [
            "/usr/local/lib/python3.7/dist-packages/IPython/core/interactiveshell.py:2822: PerformanceWarning: DataFrame is highly fragmented.  This is usually the result of calling `frame.insert` many times, which has poor performance.  Consider joining all columns at once using pd.concat(axis=1) instead.  To get a de-fragmented frame, use `newframe = frame.copy()`\n",
            "  if self.run_code(code, result):\n"
          ]
        },
        {
          "output_type": "stream",
          "name": "stdout",
          "text": [
            "(900, 1024)\n"
          ]
        }
      ]
    },
    {
      "cell_type": "code",
      "metadata": {
        "id": "-q4neHHZTB1t",
        "colab": {
          "base_uri": "https://localhost:8080/",
          "height": 284
        },
        "outputId": "41d55d4e-768f-400d-d45d-f537e992192b"
      },
      "source": [
        "plot = X.values.reshape(900,32,32)\n",
        "sample_plot =plot[0]\n",
        "print(sample_plot.shape)\n",
        "plt.imshow(sample_plot,cmap='gray')\n",
        "plt.show()"
      ],
      "execution_count": 4,
      "outputs": [
        {
          "output_type": "stream",
          "name": "stdout",
          "text": [
            "(32, 32)\n"
          ]
        },
        {
          "output_type": "display_data",
          "data": {
            "text/plain": [
              "<Figure size 432x288 with 1 Axes>"
            ],
            "image/png": "[encoded data removed]"
          },
          "metadata": {
            "needs_background": "light"
          }
        }
      ]
    },
    {
      "cell_type": "code",
      "metadata": {
        "id": "Du5vfUEEy5sZ",
        "colab": {
          "base_uri": "https://localhost:8080/"
        },
        "outputId": "f6ccdbf2-6a52-4913-d188-a612a04f7e06"
      },
      "source": [
        "# fit the keras model on the dataset\n",
        "from sklearn.model_selection import train_test_split, cross_val_score\n",
        "X_train, X_test, y_train, y_test = train_test_split(X, y, test_size=0.20, random_state=2)\n",
        "\n",
        "X_train = X_train.values.reshape(X_train.shape[0],32,32,1).astype('float32')\n",
        "X_test= X_test.values.reshape(X_test.shape[0],32,32,1).astype('float32')\n",
        "print(X_train.shape)"
      ],
      "execution_count": 5,
      "outputs": [
        {
          "output_type": "stream",
          "name": "stdout",
          "text": [
            "(720, 32, 32, 1)\n"
          ]
        }
      ]
    },
    {
      "cell_type": "code",
      "metadata": {
        "id": "n4mpCbSg30BV"
      },
      "source": [
        "\n",
        "\n",
        "# Define Model\n",
        "\n",
        "tf.keras.metrics.RootMeanSquaredError(\n",
        "    name=\"root_mean_squared_error\", dtype=None\n",
        ")\n",
        "early_stopping = EarlyStopping(\n",
        "    #monitor='val_accuracy', \n",
        "    monitor='loss',\n",
        "    patience=0, \n",
        "    #min_delta=0.001, \n",
        "    mode='max'\n",
        ")\n",
        "n_timesteps = X_train.shape[1] \n",
        "n_features  = X_train.shape[2]  \n",
        "\n",
        "model = keras.Sequential()\n",
        "\n",
        "model.add(keras.layers.Conv2D(filters=6, kernel_size=(3, 3), activation='relu', input_shape=(32,32,1)))\n",
        "model.add(keras.layers.AveragePooling2D())\n",
        "\n",
        "model.add(keras.layers.Conv2D(filters=16, kernel_size=(3, 3), activation='relu'))\n",
        "model.add(keras.layers.AveragePooling2D())\n",
        "\n",
        "model.add(keras.layers.Flatten())\n",
        "\n",
        "model.add(keras.layers.Dense(units=256, activation='relu'))\n",
        "\n",
        "model.add(keras.layers.Dense(units=84, activation='relu'))\n",
        "\n",
        "#model.add(keras.layers.Dense(units=1, activation = 'relu'))\n",
        "model.add(keras.layers.Dense(units=1))\n",
        "\n",
        "model.compile(loss='mse', optimizer='adam', metrics=['mse',tf.keras.metrics.RootMeanSquaredError()])"
      ],
      "execution_count": 6,
      "outputs": []
    },
    {
      "cell_type": "code",
      "metadata": {
        "colab": {
          "base_uri": "https://localhost:8080/"
        },
        "id": "nP3dVBsBK3s_",
        "outputId": "5e5bd999-9ace-49c5-ddb4-e69dfaeefba1"
      },
      "source": [
        "model.summary()"
      ],
      "execution_count": 7,
      "outputs": [
        {
          "output_type": "stream",
          "name": "stdout",
          "text": [
            "Model: \"sequential\"\n",
            "_________________________________________________________________\n",
            " Layer (type)                Output Shape              Param #   \n",
            "=================================================================\n",
            " conv2d (Conv2D)             (None, 30, 30, 6)         60        \n",
            "                                                                 \n",
            " average_pooling2d (AverageP  (None, 15, 15, 6)        0         \n",
            " ooling2D)                                                       \n",
            "                                                                 \n",
            " conv2d_1 (Conv2D)           (None, 13, 13, 16)        880       \n",
            "                                                                 \n",
            " average_pooling2d_1 (Averag  (None, 6, 6, 16)         0         \n",
            " ePooling2D)                                                     \n",
            "                                                                 \n",
            " flatten (Flatten)           (None, 576)               0         \n",
            "                                                                 \n",
            " dense (Dense)               (None, 256)               147712    \n",
            "                                                                 \n",
            " dense_1 (Dense)             (None, 84)                21588     \n",
            "                                                                 \n",
            " dense_2 (Dense)             (None, 1)                 85        \n",
            "                                                                 \n",
            "=================================================================\n",
            "Total params: 170,325\n",
            "Trainable params: 170,325\n",
            "Non-trainable params: 0\n",
            "_________________________________________________________________\n"
          ]
        }
      ]
    },
    {
      "cell_type": "code",
      "metadata": {
        "id": "4NKR8b4SNPbO",
        "colab": {
          "base_uri": "https://localhost:8080/"
        },
        "outputId": "b8435353-9072-4e02-a345-993ead297609"
      },
      "source": [
        "history = model.fit(X_train, y_train, epochs=20,verbose=1)"
      ],
      "execution_count": 8,
      "outputs": [
        {
          "output_type": "stream",
          "name": "stdout",
          "text": [
            "Epoch 1/20\n",
            "23/23 [==============================] - 2s 31ms/step - loss: 0.1649 - mse: 0.1649 - root_mean_squared_error: 0.4061\n",
            "Epoch 2/20\n",
            "23/23 [==============================] - 1s 31ms/step - loss: 0.1013 - mse: 0.1013 - root_mean_squared_error: 0.3183\n",
            "Epoch 3/20\n",
            "23/23 [==============================] - 1s 33ms/step - loss: 0.0354 - mse: 0.0354 - root_mean_squared_error: 0.1881\n",
            "Epoch 4/20\n",
            "23/23 [==============================] - 1s 33ms/step - loss: 0.0162 - mse: 0.0162 - root_mean_squared_error: 0.1271\n",
            "Epoch 5/20\n",
            "23/23 [==============================] - 1s 34ms/step - loss: 0.0090 - mse: 0.0090 - root_mean_squared_error: 0.0948\n",
            "Epoch 6/20\n",
            "23/23 [==============================] - 1s 28ms/step - loss: 0.0064 - mse: 0.0064 - root_mean_squared_error: 0.0802\n",
            "Epoch 7/20\n",
            "23/23 [==============================] - 1s 30ms/step - loss: 0.0057 - mse: 0.0057 - root_mean_squared_error: 0.0758\n",
            "Epoch 8/20\n",
            "23/23 [==============================] - 1s 32ms/step - loss: 0.0062 - mse: 0.0062 - root_mean_squared_error: 0.0787\n",
            "Epoch 9/20\n",
            "23/23 [==============================] - 1s 31ms/step - loss: 0.0055 - mse: 0.0055 - root_mean_squared_error: 0.0742\n",
            "Epoch 10/20\n",
            "23/23 [==============================] - 1s 31ms/step - loss: 0.0059 - mse: 0.0059 - root_mean_squared_error: 0.0770\n",
            "Epoch 11/20\n",
            "23/23 [==============================] - 1s 37ms/step - loss: 0.0046 - mse: 0.0046 - root_mean_squared_error: 0.0676\n",
            "Epoch 12/20\n",
            "23/23 [==============================] - 1s 34ms/step - loss: 0.0043 - mse: 0.0043 - root_mean_squared_error: 0.0654\n",
            "Epoch 13/20\n",
            "23/23 [==============================] - 1s 36ms/step - loss: 0.0041 - mse: 0.0041 - root_mean_squared_error: 0.0639\n",
            "Epoch 14/20\n",
            "23/23 [==============================] - 1s 40ms/step - loss: 0.0044 - mse: 0.0044 - root_mean_squared_error: 0.0663\n",
            "Epoch 15/20\n",
            "23/23 [==============================] - 1s 45ms/step - loss: 0.0037 - mse: 0.0037 - root_mean_squared_error: 0.0611\n",
            "Epoch 16/20\n",
            "23/23 [==============================] - 1s 34ms/step - loss: 0.0036 - mse: 0.0036 - root_mean_squared_error: 0.0600\n",
            "Epoch 17/20\n",
            "23/23 [==============================] - 1s 40ms/step - loss: 0.0034 - mse: 0.0034 - root_mean_squared_error: 0.0580\n",
            "Epoch 18/20\n",
            "23/23 [==============================] - 1s 35ms/step - loss: 0.0032 - mse: 0.0032 - root_mean_squared_error: 0.0564\n",
            "Epoch 19/20\n",
            "23/23 [==============================] - 1s 36ms/step - loss: 0.0034 - mse: 0.0034 - root_mean_squared_error: 0.0580\n",
            "Epoch 20/20\n",
            "23/23 [==============================] - 1s 32ms/step - loss: 0.0032 - mse: 0.0032 - root_mean_squared_error: 0.0569\n"
          ]
        }
      ]
    },
    {
      "cell_type": "code",
      "metadata": {
        "colab": {
          "base_uri": "https://localhost:8080/"
        },
        "id": "OR28le6cNvaO",
        "outputId": "358851c9-78bb-438a-e708-d896f36227d9"
      },
      "source": [
        "mse = model.evaluate(X_test, y_test)\n",
        "print('Accuracy: %.2f',mse)\n",
        "#print(history.history['mse'])\n"
      ],
      "execution_count": 9,
      "outputs": [
        {
          "output_type": "stream",
          "name": "stdout",
          "text": [
            "6/6 [==============================] - 0s 11ms/step - loss: 0.0030 - mse: 0.0030 - root_mean_squared_error: 0.0546\n",
            "Accuracy: %.2f [0.0029762962367385626, 0.0029762962367385626, 0.054555442184209824]\n"
          ]
        }
      ]
    },
    {
      "cell_type": "code",
      "metadata": {
        "colab": {
          "base_uri": "https://localhost:8080/"
        },
        "id": "vuAtGi2Aon-L",
        "outputId": "75677f03-8c3d-4155-87bc-43a7cbfb744a"
      },
      "source": [
        "myst = pd.read_csv('/content/Mystery_testing_data.csv', index_col=0)\n",
        "myst = pd.DataFrame(myst)\n",
        "predictions =[]\n",
        "myst_predictions = pd.DataFrame(myst[\"label_name\"])\n",
        "myst.drop(['label_name'], axis=1, inplace=True)\n",
        "\n",
        "myst_actual = pd.read_csv('/content/Mystery_labels.csv')\n",
        "myst_actual = myst_actual['Actual ']\n",
        "# Applying SNV to myst data\n",
        "myst = myst.values[:,0:]\n",
        "myst = snv(myst)\n",
        "myst = pd.DataFrame(myst)\n",
        "for i in range(227,1024,1):\n",
        "  myst.insert(loc=i, column=i, value=0)\n",
        "print((X.shape))\n",
        "myst= myst.values.reshape(myst.shape[0],32,32,1).astype('float32')\n",
        "preds = model.predict(myst)\n",
        "#print(preds)\n",
        "se = pd.Series(preds.tolist())\n",
        "#print(se.values)\n",
        "#myst_predictions.insert(loc=0, column='predictions', value=[sum(se.values)/len(se.values)])\n",
        "#myst_predictions.insert(loc=1, column='predictions', value=se.values)\n",
        "for i in range(0, 100):\n",
        "  #myst_predictions.insert(loc=1, column='molar_mass', value=se[i].values)\n",
        "  predictions.append((sum(se[i])/len(se[i])))\n",
        "#print(myst_predictions)\n",
        "myst_predictions.insert(loc=1, column='predictions', value=predictions)\n",
        "\n",
        "#myst['class_label'] = [1 if x > 0.5 else 0 for x in myst['predictions']]\n",
        "#myst_predictions.insert(loc=2, column='Class Name', value=se.values)\n",
        "\n",
        "myst_predictions.to_csv('/content/Mystery_Prediction_2DCNN_data_binary.csv')\n",
        "\n",
        "# Evaluate model\n",
        "mse = model.evaluate(myst, myst_actual)\n",
        "print('Mean Squared Error!',mse)"
      ],
      "execution_count": 10,
      "outputs": [
        {
          "output_type": "stream",
          "name": "stderr",
          "text": [
            "/usr/local/lib/python3.7/dist-packages/IPython/core/interactiveshell.py:2822: PerformanceWarning: DataFrame is highly fragmented.  This is usually the result of calling `frame.insert` many times, which has poor performance.  Consider joining all columns at once using pd.concat(axis=1) instead.  To get a de-fragmented frame, use `newframe = frame.copy()`\n",
            "  if self.run_code(code, result):\n"
          ]
        },
        {
          "output_type": "stream",
          "name": "stdout",
          "text": [
            "(900, 1024)\n",
            "4/4 [==============================] - 0s 9ms/step - loss: 0.1192 - mse: 0.1192 - root_mean_squared_error: 0.3453\n",
            "Mean Squared Error! [0.11924833059310913, 0.11924833059310913, 0.34532350301742554]\n"
          ]
        }
      ]
    },
    {
      "cell_type": "code",
      "metadata": {
        "colab": {
          "base_uri": "https://localhost:8080/"
        },
        "id": "gNoV7SmVzR15",
        "outputId": "375685a7-8320-4be5-c935-640997572824"
      },
      "source": [
        "#Predicting Ternary Samples Data\n",
        "data = pd.read_csv('/content/ternary_samples.csv', index_col=0)\n",
        "data = pd.DataFrame(data)\n",
        "ternary_predictions = pd.DataFrame()\n",
        "\n",
        "ternary_predictions[\"label_name\"] =data[\"label_name\"]\n",
        "ternary_predictions['Actual'] = data['label']\n",
        "\n",
        "data.drop(['label_name'], axis=1, inplace=True)\n",
        "data.rename(columns={'Unnamed: 0': 'id'},inplace=True)\n",
        "\n",
        "y = data['label']\n",
        "X = data.drop(['label'],axis=1)\n",
        "X = X.values[:,0:]\n",
        "X = snv(X)\n",
        "X = pd.DataFrame(X)\n",
        "\n",
        "for i in range(227,1024,1):\n",
        "  X.insert(loc=i, column=i, value=0)\n",
        "\n",
        "\n",
        "ternary= X.values.reshape(X.shape[0],32,32,1).astype('float32')\n",
        "preds = model.predict(ternary)\n",
        "#print(preds)\n",
        "se = pd.Series(preds.tolist())\n",
        "ternary_predictions.insert(loc=0, column='predictions', value=se.values)\n",
        "#Saving results\n",
        "ternary_predictions.to_csv('/content/Ternary_Prediction_2DCNN.csv')\n",
        "\n",
        "# Evaluate model\n",
        "mse = model.evaluate(ternary, y)\n",
        "print('Mean Squared Error!',mse)"
      ],
      "execution_count": 11,
      "outputs": [
        {
          "output_type": "stream",
          "name": "stderr",
          "text": [
            "/usr/local/lib/python3.7/dist-packages/IPython/core/interactiveshell.py:2822: PerformanceWarning: DataFrame is highly fragmented.  This is usually the result of calling `frame.insert` many times, which has poor performance.  Consider joining all columns at once using pd.concat(axis=1) instead.  To get a de-fragmented frame, use `newframe = frame.copy()`\n",
            "  if self.run_code(code, result):\n"
          ]
        },
        {
          "output_type": "stream",
          "name": "stdout",
          "text": [
            "13/13 [==============================] - 0s 10ms/step - loss: 0.0030 - mse: 0.0030 - root_mean_squared_error: 0.0551\n",
            "Mean Squared Error! [0.0030402191914618015, 0.0030402191914618015, 0.055138181895017624]\n"
          ]
        }
      ]
    },
    {
      "cell_type": "code",
      "metadata": {
        "colab": {
          "base_uri": "https://localhost:8080/"
        },
        "id": "HSVVM7a0KRYk",
        "outputId": "beeae3a8-654f-499a-f511-abc4dd283bd8"
      },
      "source": [
        "#Predicting Tylenol Data\n",
        "data = pd.read_csv('tylenol_topcare_samples.csv', index_col=0)\n",
        "data = pd.DataFrame(data)\n",
        "ternary_predictions = pd.DataFrame()\n",
        "\n",
        "ternary_predictions[\"label_name\"] =data[\"label_name\"]\n",
        "\n",
        "\n",
        "data.drop(['label_name'], axis=1, inplace=True)\n",
        "data.rename(columns={'Unnamed: 0': 'id'},inplace=True)\n",
        "\n",
        "X = data.values[:,0:]\n",
        "X = snv(X)\n",
        "X = pd.DataFrame(X)\n",
        "\n",
        "for i in range(227,1024,1):\n",
        "  X.insert(loc=i, column=i, value=0)\n",
        "\n",
        "ternary= X.values.reshape(X.shape[0],32,32,1).astype('float32')\n",
        "preds = model.predict(ternary)\n",
        "#print (preds)\n",
        "\n",
        "se = pd.Series(preds.tolist())\n",
        "ternary_predictions.insert(loc=0, column='predictions', value=se.values)\n",
        "#Saving results\n",
        "ternary_predictions.to_csv('/content/Tylenol_Prediction_LeNet_2DCNN.csv')"
      ],
      "execution_count": 12,
      "outputs": [
        {
          "output_type": "stream",
          "name": "stderr",
          "text": [
            "/usr/local/lib/python3.7/dist-packages/IPython/core/interactiveshell.py:2822: PerformanceWarning: DataFrame is highly fragmented.  This is usually the result of calling `frame.insert` many times, which has poor performance.  Consider joining all columns at once using pd.concat(axis=1) instead.  To get a de-fragmented frame, use `newframe = frame.copy()`\n",
            "  if self.run_code(code, result):\n"
          ]
        }
      ]
    }
  ]
}