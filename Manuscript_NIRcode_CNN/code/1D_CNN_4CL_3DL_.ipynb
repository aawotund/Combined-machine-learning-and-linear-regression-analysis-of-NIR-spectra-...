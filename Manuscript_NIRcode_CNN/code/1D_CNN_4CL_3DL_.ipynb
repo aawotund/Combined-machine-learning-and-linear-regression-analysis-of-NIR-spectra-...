{
  "nbformat": 4,
  "nbformat_minor": 0,
  "metadata": {
    "colab": {
      "name": "1D_CNN_4CL_3DL .ipynb",
      "provenance": [],
      "collapsed_sections": []
    },
    "kernelspec": {
      "name": "python3",
      "display_name": "Python 3"
    },
    "language_info": {
      "name": "python"
    }
  },
  "cells": [
    {
      "cell_type": "markdown",
      "source": [
        "This code shows CNN model with 4 convolutional layer with 3 fully connected layers"
      ],
      "metadata": {
        "id": "BdEc3FWY86Vk"
      }
    },
    {
      "cell_type": "code",
      "source": [
        ""
      ],
      "metadata": {
        "id": "6_8byez6853N"
      },
      "execution_count": 13,
      "outputs": []
    },
    {
      "cell_type": "code",
      "metadata": {
        "id": "V_T1ecOYwLy2"
      },
      "source": [
        "# Library imports\n",
        "import pandas as pd\n",
        "import numpy as np\n",
        "import matplotlib.pyplot as plt\n",
        "from mpl_toolkits.mplot3d import Axes3D\n",
        "import keras\n",
        "from keras.models import Sequential\n",
        "from keras.layers import Dense\n",
        "import tensorflow as tf\n",
        "from tensorflow.keras.callbacks import EarlyStopping\n",
        "\n"
      ],
      "execution_count": 1,
      "outputs": []
    },
    {
      "cell_type": "code",
      "metadata": {
        "id": "jm4StKXwCZt6"
      },
      "source": [
        "# Standard Normal Variate Function\n",
        "def snv(input_data):\n",
        "  \n",
        "    # Define a new array and populate it with the corrected data  \n",
        "    output_data = np.zeros_like(input_data)\n",
        "    for i in range(input_data.shape[0]): \n",
        "        # Apply correction\n",
        "        output_data[i,:] = (input_data[i,:] - np.mean(input_data[i,:])) / np.std(input_data[i,:])\n",
        "        \n",
        "    return output_data"
      ],
      "execution_count": 2,
      "outputs": []
    },
    {
      "cell_type": "code",
      "metadata": {
        "id": "86yCmuJbxGrJ",
        "colab": {
          "base_uri": "https://localhost:8080/"
        },
        "outputId": "a911726f-da45-4ab8-b5c9-a49a1c84a8a0"
      },
      "source": [
        "# load the dataset\n",
        "data = pd.read_csv('/content/Acetaminophen_mixture_CNN_Binary.csv', index_col=0)\n",
        "data = pd.DataFrame(data)\n",
        "data.drop(['label_name'], axis=1, inplace=True)\n",
        "data.rename(columns={'Unnamed: 0': 'id'},inplace=True)\n",
        "y = data['label']\n",
        "X = data.drop(['label'],axis=1)\n",
        "X = X.values[:,1:]\n",
        "X = snv(X)\n",
        "X = pd.DataFrame(X)\n",
        "print((X.shape))\n"
      ],
      "execution_count": 3,
      "outputs": [
        {
          "output_type": "stream",
          "name": "stdout",
          "text": [
            "(900, 226)\n"
          ]
        }
      ]
    },
    {
      "cell_type": "code",
      "metadata": {
        "id": "Du5vfUEEy5sZ"
      },
      "source": [
        "# Train Test Split and reshaping the data\n",
        "from sklearn.model_selection import train_test_split, cross_val_score\n",
        "X_train, X_test, y_train, y_test = train_test_split(X, y, test_size=0.20, random_state=2)\n",
        "X_train = X_train.values.reshape(X_train.shape[0],X_train.shape[1],1).astype('float32')\n",
        "X_test= X_test.values.reshape(X_test.shape[0],X_test.shape[1],1).astype('float32')"
      ],
      "execution_count": 4,
      "outputs": []
    },
    {
      "cell_type": "code",
      "metadata": {
        "id": "n4mpCbSg30BV"
      },
      "source": [
        "# Define Model\n",
        "\n",
        "tf.keras.metrics.RootMeanSquaredError(\n",
        "    name=\"root_mean_squared_error\", dtype=None\n",
        ")\n",
        "\n",
        "n_timesteps = X_train.shape[1] \n",
        "n_features  = X_train.shape[2]  \n",
        "model = keras.Sequential(name=\"model_conv1D\")\n",
        "model.add(keras.layers.Input(shape=(n_timesteps,n_features)))\n",
        "model.add(keras.layers.Conv1D(filters=64, kernel_size=7, activation='relu', name=\"Conv1D_1\"))\n",
        "model.add(keras.layers.Conv1D(filters=32, kernel_size=5, activation='relu', name=\"Conv1D_2\"))\n",
        "model.add(keras.layers.Conv1D(filters=16, kernel_size=2, activation='relu', name=\"Conv1D_3\"))\n",
        "model.add(keras.layers.Conv1D(filters=8, kernel_size=2, activation='relu', name=\"Conv1D_4\"))\n",
        "\n",
        "\n",
        "model.add(keras.layers.Flatten())\n",
        "model.add(keras.layers.Dense(32, activation='relu', name=\"Dense_1\"))\n",
        "model.add(keras.layers.Dense(16, activation='relu',name=\"Dense_2\"))\n",
        "model.add(keras.layers.Dense(1, name=\"Dense_3\"))\n",
        "\n",
        "\n",
        "\n",
        "model.compile(loss ='mse', optimizer='adam',metrics=['mse','mae',tf.keras.metrics.RootMeanSquaredError()])"
      ],
      "execution_count": 10,
      "outputs": []
    },
    {
      "cell_type": "code",
      "metadata": {
        "colab": {
          "base_uri": "https://localhost:8080/"
        },
        "id": "nP3dVBsBK3s_",
        "outputId": "e3efe29a-3a71-4a1d-adfa-1fd44d53eba3"
      },
      "source": [
        "model.summary()"
      ],
      "execution_count": 11,
      "outputs": [
        {
          "output_type": "stream",
          "name": "stdout",
          "text": [
            "Model: \"model_conv1D\"\n",
            "_________________________________________________________________\n",
            " Layer (type)                Output Shape              Param #   \n",
            "=================================================================\n",
            " Conv1D_1 (Conv1D)           (None, 220, 64)           512       \n",
            "                                                                 \n",
            " Conv1D_2 (Conv1D)           (None, 216, 32)           10272     \n",
            "                                                                 \n",
            " Conv1D_3 (Conv1D)           (None, 215, 16)           1040      \n",
            "                                                                 \n",
            " Conv1D_4 (Conv1D)           (None, 214, 8)            264       \n",
            "                                                                 \n",
            " flatten_1 (Flatten)         (None, 1712)              0         \n",
            "                                                                 \n",
            " Dense_1 (Dense)             (None, 32)                54816     \n",
            "                                                                 \n",
            " Dense_2 (Dense)             (None, 16)                528       \n",
            "                                                                 \n",
            " Dense_3 (Dense)             (None, 1)                 17        \n",
            "                                                                 \n",
            "=================================================================\n",
            "Total params: 67,449\n",
            "Trainable params: 67,449\n",
            "Non-trainable params: 0\n",
            "_________________________________________________________________\n"
          ]
        }
      ]
    },
    {
      "cell_type": "code",
      "metadata": {
        "id": "4NKR8b4SNPbO",
        "colab": {
          "base_uri": "https://localhost:8080/"
        },
        "outputId": "cd07f1e9-efa9-4acd-dfe7-0f4b00e88ce5"
      },
      "source": [
        "history = model.fit(X_train, y_train, epochs=20,verbose=1)"
      ],
      "execution_count": 12,
      "outputs": [
        {
          "output_type": "stream",
          "name": "stdout",
          "text": [
            "Epoch 1/20\n",
            "23/23 [==============================] - 2s 35ms/step - loss: 0.1439 - mse: 0.1439 - mae: 0.3313 - root_mean_squared_error: 0.3794\n",
            "Epoch 2/20\n",
            "23/23 [==============================] - 1s 33ms/step - loss: 0.0340 - mse: 0.0340 - mae: 0.1481 - root_mean_squared_error: 0.1844\n",
            "Epoch 3/20\n",
            "23/23 [==============================] - 1s 42ms/step - loss: 0.0102 - mse: 0.0102 - mae: 0.0811 - root_mean_squared_error: 0.1011\n",
            "Epoch 4/20\n",
            "23/23 [==============================] - 2s 67ms/step - loss: 0.0096 - mse: 0.0096 - mae: 0.0763 - root_mean_squared_error: 0.0980\n",
            "Epoch 5/20\n",
            "23/23 [==============================] - 1s 61ms/step - loss: 0.0051 - mse: 0.0051 - mae: 0.0543 - root_mean_squared_error: 0.0713\n",
            "Epoch 6/20\n",
            "23/23 [==============================] - 2s 72ms/step - loss: 0.0048 - mse: 0.0048 - mae: 0.0528 - root_mean_squared_error: 0.0690\n",
            "Epoch 7/20\n",
            "23/23 [==============================] - 1s 60ms/step - loss: 0.0043 - mse: 0.0043 - mae: 0.0491 - root_mean_squared_error: 0.0657\n",
            "Epoch 8/20\n",
            "23/23 [==============================] - 1s 33ms/step - loss: 0.0038 - mse: 0.0038 - mae: 0.0458 - root_mean_squared_error: 0.0614\n",
            "Epoch 9/20\n",
            "23/23 [==============================] - 1s 33ms/step - loss: 0.0038 - mse: 0.0038 - mae: 0.0456 - root_mean_squared_error: 0.0619\n",
            "Epoch 10/20\n",
            "23/23 [==============================] - 1s 33ms/step - loss: 0.0043 - mse: 0.0043 - mae: 0.0513 - root_mean_squared_error: 0.0657\n",
            "Epoch 11/20\n",
            "23/23 [==============================] - 1s 33ms/step - loss: 0.0041 - mse: 0.0041 - mae: 0.0468 - root_mean_squared_error: 0.0641\n",
            "Epoch 12/20\n",
            "23/23 [==============================] - 1s 33ms/step - loss: 0.0035 - mse: 0.0035 - mae: 0.0430 - root_mean_squared_error: 0.0589\n",
            "Epoch 13/20\n",
            "23/23 [==============================] - 1s 34ms/step - loss: 0.0031 - mse: 0.0031 - mae: 0.0419 - root_mean_squared_error: 0.0559\n",
            "Epoch 14/20\n",
            "23/23 [==============================] - 1s 34ms/step - loss: 0.0030 - mse: 0.0030 - mae: 0.0433 - root_mean_squared_error: 0.0550\n",
            "Epoch 15/20\n",
            "23/23 [==============================] - 1s 35ms/step - loss: 0.0025 - mse: 0.0025 - mae: 0.0376 - root_mean_squared_error: 0.0501\n",
            "Epoch 16/20\n",
            "23/23 [==============================] - 1s 34ms/step - loss: 0.0027 - mse: 0.0027 - mae: 0.0375 - root_mean_squared_error: 0.0518\n",
            "Epoch 17/20\n",
            "23/23 [==============================] - 1s 35ms/step - loss: 0.0024 - mse: 0.0024 - mae: 0.0366 - root_mean_squared_error: 0.0493\n",
            "Epoch 18/20\n",
            "23/23 [==============================] - 1s 34ms/step - loss: 0.0030 - mse: 0.0030 - mae: 0.0414 - root_mean_squared_error: 0.0551\n",
            "Epoch 19/20\n",
            "23/23 [==============================] - 1s 34ms/step - loss: 0.0031 - mse: 0.0031 - mae: 0.0427 - root_mean_squared_error: 0.0559\n",
            "Epoch 20/20\n",
            "23/23 [==============================] - 1s 35ms/step - loss: 0.0022 - mse: 0.0022 - mae: 0.0341 - root_mean_squared_error: 0.0464\n"
          ]
        }
      ]
    },
    {
      "cell_type": "code",
      "metadata": {
        "colab": {
          "base_uri": "https://localhost:8080/"
        },
        "id": "OR28le6cNvaO",
        "outputId": "2b1b4799-938c-49fd-bf6d-e64477d0d6fc"
      },
      "source": [
        "mse = model.evaluate(X_test, y_test)\n",
        "print('Mean Squared Error!',mse)\n",
        "print(history.history['mae'])\n"
      ],
      "execution_count": 13,
      "outputs": [
        {
          "output_type": "stream",
          "name": "stdout",
          "text": [
            "6/6 [==============================] - 0s 13ms/step - loss: 0.0019 - mse: 0.0019 - mae: 0.0358 - root_mean_squared_error: 0.0439\n",
            "Mean Squared Error! [0.0019242799608036876, 0.0019242799608036876, 0.03581830859184265, 0.04386661574244499]\n",
            "[0.33132094144821167, 0.148071750998497, 0.08108583837747574, 0.07634329050779343, 0.054296743124723434, 0.052754078060388565, 0.04909380152821541, 0.04582517594099045, 0.045576732605695724, 0.051299259066581726, 0.04680237919092178, 0.04296451061964035, 0.04185524955391884, 0.04331584647297859, 0.037647005170583725, 0.0375487245619297, 0.03655562549829483, 0.04141583293676376, 0.0427413284778595, 0.03408324345946312]\n"
          ]
        }
      ]
    },
    {
      "cell_type": "code",
      "metadata": {
        "id": "vuAtGi2Aon-L",
        "colab": {
          "base_uri": "https://localhost:8080/"
        },
        "outputId": "fe791070-fff5-44de-ac59-e7d46b5ad7e9"
      },
      "source": [
        "#Predicting Mystery Data\n",
        "myst = pd.read_csv('/content/Mystery_testing_data.csv', index_col=0)\n",
        "myst = pd.DataFrame(myst)\n",
        "myst_predictions = pd.DataFrame(myst[\"label_name\"])\n",
        "myst.drop(['label_name'], axis=1, inplace=True)\n",
        "\n",
        "myst_actual = pd.read_csv('/content/Mystery_labels.csv')\n",
        "myst_actual = myst_actual['Actual ']\n",
        "# Applying SNV to myst data\n",
        "myst = myst.values[:,1:]\n",
        "myst = snv(myst)\n",
        "myst = pd.DataFrame(myst)\n",
        "\n",
        "myst= myst.values.reshape(myst.shape[0],myst.shape[1],1).astype('float32')\n",
        "preds = model.predict(myst)\n",
        "\n",
        "se = pd.Series(preds.tolist())\n",
        "myst_predictions.insert(loc=0, column='predictions', value=se.values)\n",
        "#Saving results\n",
        "myst_predictions.to_csv('/content/Mystery_Prediction_1DCNN_data_binary.csv')\n",
        "\n",
        "# Evaluate model\n",
        "mse = model.evaluate(myst, myst_actual)\n",
        "print('Mean Squared Error!',mse)"
      ],
      "execution_count": 14,
      "outputs": [
        {
          "output_type": "stream",
          "name": "stdout",
          "text": [
            "4/4 [==============================] - 0s 9ms/step - loss: 0.0824 - mse: 0.0824 - mae: 0.1607 - root_mean_squared_error: 0.2871\n",
            "Mean Squared Error! [0.0824470967054367, 0.0824470967054367, 0.16065822541713715, 0.2871360182762146]\n"
          ]
        }
      ]
    },
    {
      "cell_type": "code",
      "metadata": {
        "id": "Qr3GK211mDFN",
        "colab": {
          "base_uri": "https://localhost:8080/"
        },
        "outputId": "df791915-e202-4e83-b006-2a4e0ac1274b"
      },
      "source": [
        "#Predicting Ternary Samples Data\n",
        "data = pd.read_csv('/content/ternary_samples.csv', index_col=0)\n",
        "data = pd.DataFrame(data)\n",
        "ternary_predictions = pd.DataFrame()\n",
        "\n",
        "ternary_predictions[\"label_name\"] =data[\"label_name\"]\n",
        "ternary_predictions['Actual'] = data['label']\n",
        "\n",
        "data.drop(['label_name'], axis=1, inplace=True)\n",
        "data.rename(columns={'Unnamed: 0': 'id'},inplace=True)\n",
        "\n",
        "y = data['label']\n",
        "X = data.drop(['label'],axis=1)\n",
        "X = X.values[:,1:]\n",
        "X = snv(X)\n",
        "X = pd.DataFrame(X)\n",
        "\n",
        "ternary= X.values.reshape(X.shape[0],X.shape[1],1).astype('float32')\n",
        "preds = model.predict(ternary)\n",
        "\n",
        "se = pd.Series(preds.tolist())\n",
        "ternary_predictions.insert(loc=0, column='predictions', value=se.values)\n",
        "#Saving results\n",
        "ternary_predictions.to_csv('/content/Ternary_Prediction_1DCNN_data_Ternary.csv')\n",
        "\n",
        "mse = model.evaluate(ternary, y)\n",
        "print('Mean Squared Error!',mse)\n"
      ],
      "execution_count": 16,
      "outputs": [
        {
          "output_type": "stream",
          "name": "stdout",
          "text": [
            "13/13 [==============================] - 0s 11ms/step - loss: 0.0048 - mse: 0.0048 - mae: 0.0578 - root_mean_squared_error: 0.0696\n",
            "Mean Squared Error! [0.004844578914344311, 0.004844578914344311, 0.057828500866889954, 0.06960301101207733]\n"
          ]
        }
      ]
    },
    {
      "cell_type": "code",
      "metadata": {
        "id": "pVlwRg35DIi5"
      },
      "source": [
        "#Predicting Tylenol Data\n",
        "data = pd.read_csv('tylenol_topcare_samples.csv', index_col=0)\n",
        "data = pd.DataFrame(data)\n",
        "ternary_predictions = pd.DataFrame()\n",
        "\n",
        "ternary_predictions[\"label_name\"] =data[\"label_name\"]\n",
        "\n",
        "\n",
        "data.drop(['label_name'], axis=1, inplace=True)\n",
        "data.rename(columns={'Unnamed: 0': 'id'},inplace=True)\n",
        "\n",
        "X = data.values[:,1:]\n",
        "X = snv(X)\n",
        "X = pd.DataFrame(X)\n",
        "#print(X.head(3))\n",
        "\n",
        "ternary= X.values.reshape(X.shape[0],X.shape[1],1).astype('float32')\n",
        "preds = model.predict(ternary)\n",
        "\n",
        "se = pd.Series(preds.tolist())\n",
        "ternary_predictions.insert(loc=0, column='predictions', value=se.values)\n",
        "#Saving results\n",
        "ternary_predictions.to_csv('/content/Tylenol_Prediction_1DCNN.csv')"
      ],
      "execution_count": 17,
      "outputs": []
    }
  ]
}